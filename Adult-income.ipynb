{
 "cells": [
  {
   "attachments": {},
   "cell_type": "markdown",
   "metadata": {},
   "source": [
    "### Name-eda"
   ]
  },
  {
   "attachments": {},
   "cell_type": "markdown",
   "metadata": {},
   "source": [
    "### 1.Introduction"
   ]
  },
  {
   "attachments": {},
   "cell_type": "markdown",
   "metadata": {},
   "source": [
    "### 2.Fetching the Data"
   ]
  },
  {
   "cell_type": "code",
   "execution_count": null,
   "metadata": {},
   "outputs": [],
   "source": [
    "# import Packages\n",
    "import numpy as np\n",
    "import pandas as pd\n",
    "import seaborn as sns\n",
    "import matplotlib.pyplot as plt\n",
    "%matplotlib inline\n",
    "\n",
    "import warnings\n",
    "# warnings.filterwarnings(\"ignore\")\n",
    "\n",
    "from scipy.stats import ttest_ind, ttest_rel\n",
    "from scipy import stats"
   ]
  },
  {
   "cell_type": "code",
   "execution_count": null,
   "metadata": {},
   "outputs": [],
   "source": [
    "#import data\n",
    "data = pd.read_csv(\"adult.csv\")"
   ]
  },
  {
   "cell_type": "code",
   "execution_count": null,
   "metadata": {},
   "outputs": [],
   "source": [
    "data.head(10)"
   ]
  },
  {
   "cell_type": "code",
   "execution_count": null,
   "metadata": {},
   "outputs": [],
   "source": [
    "data.shape()"
   ]
  },
  {
   "cell_type": "code",
   "execution_count": null,
   "metadata": {},
   "outputs": [],
   "source": [
    "data_num = data.copy()"
   ]
  },
  {
   "attachments": {},
   "cell_type": "markdown",
   "metadata": {},
   "source": [
    "### 3.Data Cleaning"
   ]
  },
  {
   "cell_type": "code",
   "execution_count": null,
   "metadata": {},
   "outputs": [],
   "source": [
    "# Fixing common null values\n",
    "\n",
    "attrib,counts =\n",
    "np.unique(data[\"workclass\"], return_counts = True)\n",
    "most_freq_attrib = attrib[np.argmax(counts, axis = 0)]\n",
    "data[\"workclass\"][data[\"workclass\"] == \"?\" ] = most_freq_attrib\n",
    "\n",
    "attrib, counts = np.unique(data[\"occupation\"], return_counts = True)\n",
    "most_freq_attrib = attrib[np.argmax(counts, axis = 0)]\n",
    "data[\"occupation\"][data[\"occupation\"] == \"?\"] = most_freq_attrib\n",
    "\n",
    "attrib, counts = np.unique(data[\"native-country\"],return_counts = True)\n",
    "most_freq_attrib = attrib[np.argmax(counts, axis = 0)] \n",
    "data[\"native-country\"][data[\"native-country\"] == \"?\"] = most_freq_attrib"
   ]
  },
  {
   "cell_type": "code",
   "execution_count": null,
   "metadata": {},
   "outputs": [],
   "source": [
    "data.head(10)"
   ]
  },
  {
   "attachments": {},
   "cell_type": "markdown",
   "metadata": {},
   "source": [
    "definir as variaves income"
   ]
  },
  {
   "cell_type": "code",
   "execution_count": null,
   "metadata": {},
   "outputs": [],
   "source": [
    "data['income'] = data['income'].map({'<=50K': 0,'>50K': 1, '<=50k.': 0, '>50K.':1})\n",
    "data.head()"
   ]
  },
  {
   "attachments": {},
   "cell_type": "markdown",
   "metadata": {},
   "source": [
    "### 4. Summary"
   ]
  },
  {
   "cell_type": "code",
   "execution_count": null,
   "metadata": {},
   "outputs": [],
   "source": [
    "# 4.1 Summary statistics for numeric attributes\n",
    "data_num = data_num.drop([\"educational-num\", \"income\"], axis = 1)\n",
    "data_num.describe()"
   ]
  },
  {
   "cell_type": "code",
   "execution_count": null,
   "metadata": {},
   "outputs": [],
   "source": [
    "# Summary of attributes explain following things"
   ]
  },
  {
   "attachments": {},
   "cell_type": "markdown",
   "metadata": {},
   "source": [
    "For \"Age\":\n",
    "1. The mean value is 38 i.e on an average the value of age attribute is 38.\n",
    "2. Age is having std devation of 13.71 which indicated the deviation of an observation from the mean.\n",
    "3. The value of Age attribute varies from 17 to 90.\n",
    "4. The 1st quartile is 28 i.e. 25% of the observation lies below 28.\n",
    "5. 3rd quartile of 48 which indicates 75% of the observations the values of age is less than 48.\n",
    "6. The difference between 1st quartile and the minimum is lesser than the difference between 3rd quartile and the maximum which indicated thatthe data is more dispersed after the value 48.\n",
    "7. The difference between mean and median is not significantly high but the difference between 3rd quartile and maximum made the distributionright skewed."
   ]
  },
  {
   "attachments": {},
   "cell_type": "markdown",
   "metadata": {},
   "source": [
    "For \"fnlwgt\":\n",
    "1. This the sampling weight corresponding to the observation\n",
    "2. Final weight seems to be rightly skewed since there is very large distance between median and maximum value as compared to minimum &median value."
   ]
  },
  {
   "attachments": {},
   "cell_type": "markdown",
   "metadata": {},
   "source": [
    "For \"capital-gain\":\n",
    "1. For capital gain , the mean is 1079.06 and median is 0, which indicated that the distribution is highly right skewed.\n",
    "2. From the quartiles it clearly visible that 75% observation are having capital gain zero.\n",
    "3. Capital-gain is more concentrated on one particular value i.e zero and other are spread after 3rd quartile which results as the large std devation7452.01.\n",
    "4. It shows that either a person has no gain or has gain a very large amount (10k to 99k)."
   ]
  },
  {
   "attachments": {},
   "cell_type": "markdown",
   "metadata": {},
   "source": [
    "For \"capital-loss\":\n",
    "1. This attribute is similar to the capatial-gain i.e. most of the centred values are 0. As minimum is 0 and value lies under 75 percentile is also zero.\n",
    "2. Mean is 87 but meadian is 0. i.e. mean is greater than median that means it is right skewed distrubution"
   ]
  },
  {
   "attachments": {},
   "cell_type": "markdown",
   "metadata": {},
   "source": [
    "For \"hours-per-week\"\n",
    "1. This attribute means number of working hours spend by an individual in a week.\n",
    "2. This attribute varies within the range of 1 to 99.\n",
    "3. 75% of the people spend 45 or less working hours per week.\n",
    "4. The IQR is very less i.e.[40-45] which indicated that 50% of the observation are concentrated between 40 to 45.\n",
    "5. Observation are very sparse below 25th percentile and after 75th percentile.\n",
    "6. Using quartiles we can say that data is symmetric\n",
    "7. Minimum is 1 hr per week and max is 99 hr per week. means person spending 99 working hours per week are very rare events."
   ]
  },
  {
   "cell_type": "code",
   "execution_count": null,
   "metadata": {},
   "outputs": [],
   "source": [
    "# 4.2 summmary and count for categorical attribute"
   ]
  },
  {
   "cell_type": "code",
   "execution_count": null,
   "metadata": {},
   "outputs": [],
   "source": [
    "data.describe(include = [\"O\"])"
   ]
  },
  {
   "attachments": {},
   "cell_type": "markdown",
   "metadata": {},
   "source": [
    "1. native-country has more number of unique catgories i.e. 41 categories.\n",
    "2. But the native-country is highly biased towards the US which has frequency of 44689 out of total 48842 (nearly 91%)\n",
    "3. Occupation has more or less uniform distribution of categories as compared to the other attributes.\n",
    "4. Race is also biased to the white race categories(41762) with 85.5%.\n",
    "5. The top category in workclass is private having frequecy of (36705) and percentage (75.5%)."
   ]
  },
  {
   "attachments": {},
   "cell_type": "markdown",
   "metadata": {},
   "source": [
    "### 5. EDA"
   ]
  },
  {
   "attachments": {},
   "cell_type": "markdown",
   "metadata": {},
   "source": [
    "#### 5.1 Univariate Analysis"
   ]
  },
  {
   "attachments": {},
   "cell_type": "markdown",
   "metadata": {},
   "source": [
    "##### 5.1.1 Age"
   ]
  },
  {
   "attachments": {},
   "cell_type": "markdown",
   "metadata": {},
   "source": [
    "i. Distubution"
   ]
  },
  {
   "cell_type": "code",
   "execution_count": null,
   "metadata": {},
   "outputs": [],
   "source": [
    "data[\"age\"].hist(figsize = (9, 5))\n",
    "plt.show()"
   ]
  },
  {
   "cell_type": "code",
   "execution_count": null,
   "metadata": {},
   "outputs": [],
   "source": [
    "data[data[\"age\"] > 70].shape"
   ]
  },
  {
   "attachments": {},
   "cell_type": "markdown",
   "metadata": {},
   "source": [
    "ii. Desription about the distribution :\n",
    "\n",
    "The above histogram shows that :\n",
    "\n",
    "- \"age\" atrribute is not symmetric .\n",
    "- it is right skewed(But is ok,as younger adult wages more than the older ones)\n",
    "- minimum and maximum age of the people is 17 and 90 respectively\n",
    "- this dataset have fewer observations (868) of people's age after certain age i.e 70"
   ]
  },
  {
   "attachments": {},
   "cell_type": "markdown",
   "metadata": {},
   "source": [
    "##### 5.1.2 Hours-per-week"
   ]
  },
  {
   "cell_type": "code",
   "execution_count": null,
   "metadata": {},
   "outputs": [],
   "source": [
    "data[\"hours-per-week\"].hist(figsize = (9, 5))\n",
    "plt.show()"
   ]
  },
  {
   "attachments": {},
   "cell_type": "markdown",
   "metadata": {},
   "source": [
    "ii. Desription about the distribution :"
   ]
  },
  {
   "attachments": {},
   "cell_type": "markdown",
   "metadata": {},
   "source": [
    "The above histogram of \"Hours-per-week\" shows that :\n",
    "- this data varies within the range of 1 to 99.\n",
    "- most people work 30 to 40 hours per week, they are roughly 27000 people\n",
    "- There are some people who works 80-100 hrs per week and some less than 20 which is unusual\n",
    "- 75% of the people spend 45 or less working hour-per-week."
   ]
  },
  {
   "attachments": {},
   "cell_type": "markdown",
   "metadata": {},
   "source": [
    "##### 5.1.3 fnlwgt"
   ]
  },
  {
   "attachments": {},
   "cell_type": "markdown",
   "metadata": {},
   "source": [
    "i. Distrubution"
   ]
  },
  {
   "cell_type": "code",
   "execution_count": null,
   "metadata": {},
   "outputs": [],
   "source": [
    "data[\"fnlwgt\"].hist(figsize = (9, 5))\n",
    "plt.show()"
   ]
  },
  {
   "attachments": {},
   "cell_type": "markdown",
   "metadata": {},
   "source": [
    "ii. Desription about the distribution :"
   ]
  },
  {
   "attachments": {},
   "cell_type": "markdown",
   "metadata": {},
   "source": [
    "The above histogram shows that :\n",
    "- This is the sampling weight corresponding to the observation\n",
    "- the distribution of final weight seems to be right skewed since mean(189664.1) is greater than median(178144.5)"
   ]
  },
  {
   "attachments": {},
   "cell_type": "markdown",
   "metadata": {},
   "source": [
    "##### 5.1.4 capital-pain"
   ]
  },
  {
   "attachments": {},
   "cell_type": "markdown",
   "metadata": {},
   "source": [
    "i. Distribution"
   ]
  },
  {
   "cell_type": "code",
   "execution_count": null,
   "metadata": {},
   "outputs": [],
   "source": [
    "data[\"capital-gain\"].hist(figsize = (9, 5))\n",
    "plt.show()"
   ]
  },
  {
   "attachments": {},
   "cell_type": "markdown",
   "metadata": {},
   "source": [
    "ii. Desription about the distribution :"
   ]
  },
  {
   "attachments": {},
   "cell_type": "markdown",
   "metadata": {},
   "source": [
    "The above histogram shows that :\n",
    "- the most capital-gain values are centered on 0 and few on 10k and 99k\n",
    "- Capital-gain is more concentrated on one particular valueand spread with large std devation 7452.01.\n",
    "- It shows that either a person has no gain or has gain a very large amount (10k to 99k)."
   ]
  },
  {
   "attachments": {},
   "cell_type": "markdown",
   "metadata": {},
   "source": [
    "##### 5.1.5 capital-loss"
   ]
  },
  {
   "attachments": {},
   "cell_type": "markdown",
   "metadata": {},
   "source": [
    "i. Distribution"
   ]
  },
  {
   "cell_type": "code",
   "execution_count": null,
   "metadata": {},
   "outputs": [],
   "source": [
    "data\n",
    "[\n",
    "\"capital-loss\"\n",
    "].\n",
    "hist\n",
    "(\n",
    "figsize\n",
    "=\n",
    "(\n",
    "9\n",
    ",\n",
    "5\n",
    "))\n",
    "plt\n",
    ".\n",
    "show\n",
    "()"
   ]
  },
  {
   "cell_type": "code",
   "execution_count": null,
   "metadata": {},
   "outputs": [],
   "source": [
    "data\n",
    "[\n",
    "data\n",
    "[\n",
    "\"capital-loss\"\n",
    "]\n",
    ">\n",
    "0\n",
    "].\n",
    "shape"
   ]
  },
  {
   "attachments": {},
   "cell_type": "markdown",
   "metadata": {},
   "source": [
    "ii. Desription about the distribution :"
   ]
  },
  {
   "cell_type": "code",
   "execution_count": null,
   "metadata": {},
   "outputs": [],
   "source": [
    "espto about te dstbuto\n",
    "The above histogram shows that :\n",
    "- it shows that most of the capital-loss values are centered on 0 and only few are non-zero(2282).\n",
    "- this attribute is simi;ar to the capital-gain i.e ,ost of the values are centred on 0 nearly(43000 of them)"
   ]
  },
  {
   "attachments": {},
   "cell_type": "markdown",
   "metadata": {},
   "source": [
    "##### Relationship between capital - gain and capital loss"
   ]
  },
  {
   "cell_type": "code",
   "execution_count": null,
   "metadata": {},
   "outputs": [],
   "source": [
    "sns\n",
    ".\n",
    "relplot\n",
    "(\n",
    "\"capital-gain\"\n",
    ",\n",
    "\"capital-loss\"\n",
    ",\n",
    "data\n",
    "=\n",
    "data\n",
    ")\n",
    "plt\n",
    ".\n",
    "xlabel\n",
    "(\n",
    "\"Capital Gain\"\n",
    ")\n",
    "plt\n",
    ".\n",
    "ylabel\n",
    "(\n",
    "\"Capital Loss\"\n",
    ")\n",
    "plt\n",
    ".\n",
    "show\n",
    "()"
   ]
  },
  {
   "attachments": {},
   "cell_type": "markdown",
   "metadata": {},
   "source": [
    "- both capital gain and capital loss can be zero.\n",
    "- if capital gain is zero there is possibility of capital loss being high or above zero.\n",
    "- if capital loss is zero there is possibility of capital gain being heigh or ove zero."
   ]
  },
  {
   "attachments": {},
   "cell_type": "markdown",
   "metadata": {},
   "source": [
    "##### 5.1.6 workclass"
   ]
  },
  {
   "attachments": {},
   "cell_type": "markdown",
   "metadata": {},
   "source": [
    "i. Distribution"
   ]
  },
  {
   "cell_type": "code",
   "execution_count": null,
   "metadata": {},
   "outputs": [],
   "source": [
    "plt\n",
    ".\n",
    "figure\n",
    "(\n",
    "figsize\n",
    "=\n",
    "(\n",
    "12\n",
    ",\n",
    "8\n",
    "))\n",
    "total\n",
    "=\n",
    "float\n",
    "(\n",
    "len\n",
    "(\n",
    "data\n",
    "[\n",
    "\"income\"\n",
    "]))\n",
    "ax\n",
    "=\n",
    "sns\n",
    ".\n",
    "countplot\n",
    "(\n",
    "x\n",
    "=\n",
    "\"workclass\"\n",
    ",\n",
    "data\n",
    "=\n",
    "data\n",
    ")\n",
    "for\n",
    "p\n",
    "in\n",
    "ax\n",
    ".\n",
    "patches\n",
    ":\n",
    "height\n",
    "=\n",
    "p\n",
    ".\n",
    "get_height\n",
    "()\n",
    "ax\n",
    ".\n",
    "text\n",
    "(\n",
    "p\n",
    ".\n",
    "get_x\n",
    "()\n",
    "+\n",
    "p\n",
    ".\n",
    "get_width\n",
    "()\n",
    "/\n",
    "2.\n",
    ",\n",
    "height\n",
    "+\n",
    "3\n",
    ",\n",
    "\"{:1.2f}\"\n",
    ".\n",
    "format\n",
    "((\n",
    "height\n",
    "/\n",
    "total\n",
    ")\n",
    "*\n",
    "100\n",
    "),\n",
    "ha\n",
    "=\n",
    "\"center\"\n",
    ")\n",
    "plt\n",
    ".\n",
    "show\n",
    "()"
   ]
  },
  {
   "attachments": {},
   "cell_type": "markdown",
   "metadata": {},
   "source": [
    "ii. Description about distribution"
   ]
  },
  {
   "attachments": {},
   "cell_type": "markdown",
   "metadata": {},
   "source": [
    "Summary distribution shows that:\n",
    "    \n",
    "- There are 8 unique categories present in the worclass attribute.\n",
    "- Most of them belong to the private workclass(36705) i.e. 75.15%.\n",
    "- without-pay and never-worked has minimum count in workclass attribute(less than 1%).\n",
    "- There is huge imbalance in the categories of workclass attribute."
   ]
  },
  {
   "attachments": {},
   "cell_type": "markdown",
   "metadata": {},
   "source": [
    "##### 5.1.7 Education"
   ]
  },
  {
   "attachments": {},
   "cell_type": "markdown",
   "metadata": {},
   "source": [
    "i.Distribution"
   ]
  },
  {
   "cell_type": "code",
   "execution_count": null,
   "metadata": {},
   "outputs": [],
   "source": [
    "plt\n",
    ".\n",
    "figure\n",
    "(\n",
    "figsize\n",
    "=\n",
    "(\n",
    "18\n",
    ",\n",
    "5\n",
    "))\n",
    "total\n",
    "=\n",
    "float\n",
    "(\n",
    "len\n",
    "(\n",
    "data\n",
    "[\n",
    "\"income\"\n",
    "]))\n",
    "ax\n",
    "=\n",
    "sns\n",
    ".\n",
    "countplot\n",
    "(\n",
    "x\n",
    "=\n",
    "\"education\"\n",
    ",\n",
    "data\n",
    "=\n",
    "data\n",
    ")\n",
    "for\n",
    "p\n",
    "in\n",
    "ax\n",
    ".\n",
    "patches\n",
    ":\n",
    "height\n",
    "=\n",
    "p\n",
    ".\n",
    "get_height\n",
    "()\n",
    "ax\n",
    ".\n",
    "text\n",
    "(\n",
    "p\n",
    ".\n",
    "get_x\n",
    "()\n",
    "+\n",
    "p\n",
    ".\n",
    "get_width\n",
    "()\n",
    "/\n",
    "2.\n",
    ",\n",
    "height\n",
    "+\n",
    "3\n",
    ",\n",
    "\"{:1.2f}\"\n",
    ".\n",
    "format\n",
    "((\n",
    "height\n",
    "/\n",
    "total\n",
    ")\n",
    "*\n",
    "100\n",
    "),\n",
    "ha\n",
    "=\n",
    "\"center\"\n",
    ")\n",
    "plt\n",
    ".\n",
    "show\n",
    "()"
   ]
  },
  {
   "attachments": {},
   "cell_type": "markdown",
   "metadata": {},
   "source": [
    "ii. Description about distribution"
   ]
  },
  {
   "attachments": {},
   "cell_type": "markdown",
   "metadata": {},
   "source": [
    "- There are 16 unique categories present in the education attribute.\n",
    "- Hs-grad has 32.32% of all the education attribute.\n",
    "- HS-grad (15784) has the maximum number of observations followed by some-college(10878) and Bachelors(8025).\n",
    "- Pre-school has minimum samples i.e. 83."
   ]
  },
  {
   "attachments": {},
   "cell_type": "markdown",
   "metadata": {},
   "source": [
    "##### 5.1.8 marital-status"
   ]
  },
  {
   "attachments": {},
   "cell_type": "markdown",
   "metadata": {},
   "source": [
    "i. Distributio"
   ]
  },
  {
   "cell_type": "code",
   "execution_count": null,
   "metadata": {},
   "outputs": [],
   "source": [
    "plt\n",
    ".\n",
    "figure\n",
    "(\n",
    "figsize\n",
    "=\n",
    "(\n",
    "18\n",
    ",\n",
    "5\n",
    "))\n",
    "total\n",
    "=\n",
    "float\n",
    "(\n",
    "len\n",
    "(\n",
    "data\n",
    "))\n",
    "ax\n",
    "=\n",
    "sns\n",
    ".\n",
    "countplot\n",
    "(\n",
    "x\n",
    "=\n",
    "\"marital-status\"\n",
    ",\n",
    "data\n",
    "=\n",
    "data\n",
    ")\n",
    "for\n",
    "p\n",
    "in\n",
    "ax\n",
    ".\n",
    "patches\n",
    ":\n",
    "height\n",
    "=\n",
    "p\n",
    ".\n",
    "get_height\n",
    "()\n",
    "ax\n",
    ".\n",
    "text\n",
    "(\n",
    "p\n",
    ".\n",
    "get_x\n",
    "()\n",
    "+\n",
    "p\n",
    ".\n",
    "get_width\n",
    "()\n",
    "/\n",
    "2.\n",
    ",\n",
    "height\n",
    "+\n",
    "3\n",
    ",\n",
    "\"{:1.2f}\"\n",
    ".\n",
    "format\n",
    "((\n",
    "height\n",
    "/\n",
    "total\n",
    ")\n",
    "*\n",
    "100\n",
    "),\n",
    "ha\n",
    "=\n",
    "\"center\"\n",
    ")\n",
    "plt\n",
    ".\n",
    "show\n",
    "()"
   ]
  },
  {
   "attachments": {},
   "cell_type": "markdown",
   "metadata": {},
   "source": [
    "ii. Description about distribution"
   ]
  },
  {
   "attachments": {},
   "cell_type": "markdown",
   "metadata": {},
   "source": [
    "- This marital-status attribute has 7 unique categories.\n",
    "- Two of them are dominate over other categories(these are Never-married(33%) and married-civ-spouse(45.82%).\n",
    "- Married-civ-spouse has maximum number of samples.\n",
    "- Married-AF-spouse has minimum number of obs."
   ]
  },
  {
   "attachments": {},
   "cell_type": "markdown",
   "metadata": {},
   "source": [
    "##### 5.1.9 Occupation"
   ]
  },
  {
   "attachments": {},
   "cell_type": "markdown",
   "metadata": {},
   "source": [
    "i. Distribution"
   ]
  },
  {
   "cell_type": "code",
   "execution_count": null,
   "metadata": {},
   "outputs": [],
   "source": [
    "plt\n",
    ".\n",
    "figure\n",
    "(\n",
    "figsize\n",
    "=\n",
    "(\n",
    "18\n",
    ",\n",
    "5\n",
    "))\n",
    "total\n",
    "=\n",
    "float\n",
    "(\n",
    "len\n",
    "(\n",
    "data\n",
    "))\n",
    "ax\n",
    "=\n",
    "sns\n",
    ".\n",
    "countplot\n",
    "(\n",
    "x\n",
    "=\n",
    "\"occupation\"\n",
    ",\n",
    "data\n",
    "=\n",
    "data\n",
    ")\n",
    "for\n",
    "p\n",
    "in\n",
    "ax\n",
    ".\n",
    "patches\n",
    ":\n",
    "height\n",
    "=\n",
    "p\n",
    ".\n",
    "get_height\n",
    "()\n",
    "ax\n",
    ".\n",
    "text\n",
    "(\n",
    "p\n",
    ".\n",
    "get_x\n",
    "()\n",
    "+\n",
    "p\n",
    ".\n",
    "get_width\n",
    "()\n",
    "/\n",
    "2.\n",
    ",\n",
    "height\n",
    "+\n",
    "3\n",
    ",\n",
    "\"{:1.2f}\"\n",
    ".\n",
    "format\n",
    "((\n",
    "height\n",
    "/\n",
    "total\n",
    ")\n",
    "*\n",
    "100\n",
    "),\n",
    "ha\n",
    "=\n",
    "\"center\"\n",
    ")\n",
    "plt\n",
    ".\n",
    "show\n",
    "()"
   ]
  },
  {
   "attachments": {},
   "cell_type": "markdown",
   "metadata": {},
   "source": [
    "ii. Description about distribution"
   ]
  },
  {
   "attachments": {},
   "cell_type": "markdown",
   "metadata": {},
   "source": [
    "- There are 14 unique categories present in the occupation attribute.\n",
    "- Prof-specialty has the maximum count(8981) but Craft-repair, Exec-managerial\n",
    "and Adm-clerical Sales has comparable number ofobservations.\n",
    "- Armed-Forces * has minimum samples in the occupation* attribute"
   ]
  },
  {
   "attachments": {},
   "cell_type": "markdown",
   "metadata": {},
   "source": [
    "##### 5.1.10 Relationship"
   ]
  },
  {
   "attachments": {},
   "cell_type": "markdown",
   "metadata": {},
   "source": [
    "i. Distribution"
   ]
  },
  {
   "cell_type": "code",
   "execution_count": null,
   "metadata": {},
   "outputs": [],
   "source": [
    "plt\n",
    ".\n",
    "figure\n",
    "(\n",
    "figsize\n",
    "=\n",
    "(\n",
    "18\n",
    ",\n",
    "5\n",
    "))\n",
    "total\n",
    "=\n",
    "float\n",
    "(\n",
    "len\n",
    "(\n",
    "data\n",
    "))\n",
    "ax\n",
    "=\n",
    "sns\n",
    ".\n",
    "countplot\n",
    "(\n",
    "x\n",
    "=\n",
    "\"relationship\"\n",
    ",\n",
    "data\n",
    "=\n",
    "data\n",
    ")\n",
    "for\n",
    "p\n",
    "in\n",
    "ax\n",
    ".\n",
    "patches\n",
    ":\n",
    "height\n",
    "=\n",
    "p\n",
    ".\n",
    "get_height\n",
    "()\n",
    "ax\n",
    ".\n",
    "text\n",
    "(\n",
    "p\n",
    ".\n",
    "get_x\n",
    "()\n",
    "+\n",
    "p\n",
    ".\n",
    "get_width\n",
    "()\n",
    "/\n",
    "2.\n",
    ",\n",
    "height\n",
    "+\n",
    "3\n",
    ",\n",
    "\"{:1.2f}\"\n",
    ".\n",
    "format\n",
    "((\n",
    "height\n",
    "/\n",
    "total\n",
    ")\n",
    "*\n",
    "100\n",
    "),\n",
    "ha\n",
    "=\n",
    "\"center\"\n",
    ")\n",
    "plt\n",
    ".\n",
    "show\n",
    "()"
   ]
  },
  {
   "attachments": {},
   "cell_type": "markdown",
   "metadata": {},
   "source": [
    "ii. Description about distribution"
   ]
  },
  {
   "attachments": {},
   "cell_type": "markdown",
   "metadata": {},
   "source": [
    "- There are 6 unique categories in the relationship attribute.\n",
    "- Husband has maximum percentage (40.37%) among all categories followed by not-in-family(25.76%)"
   ]
  },
  {
   "attachments": {},
   "cell_type": "markdown",
   "metadata": {},
   "source": [
    "##### 5.1.11 Race"
   ]
  },
  {
   "attachments": {},
   "cell_type": "markdown",
   "metadata": {},
   "source": [
    "i. Distribution"
   ]
  },
  {
   "cell_type": "code",
   "execution_count": null,
   "metadata": {},
   "outputs": [],
   "source": [
    "plt\n",
    ".\n",
    "figure\n",
    "(\n",
    "figsize\n",
    "=\n",
    "(\n",
    "18\n",
    ",\n",
    "5\n",
    "))\n",
    "total\n",
    "=\n",
    "float\n",
    "(\n",
    "len\n",
    "(\n",
    "data\n",
    "))\n",
    "ax\n",
    "=\n",
    "sns\n",
    ".\n",
    "countplot\n",
    "(\n",
    "x\n",
    "=\n",
    "\"race\"\n",
    ",\n",
    "data\n",
    "=\n",
    "data\n",
    ")\n",
    "for\n",
    "p\n",
    "in\n",
    "ax\n",
    ".\n",
    "patches\n",
    ":\n",
    "height\n",
    "=\n",
    "p\n",
    ".\n",
    "get_height\n",
    "()\n",
    "ax\n",
    ".\n",
    "text\n",
    "(\n",
    "p\n",
    ".\n",
    "get_x\n",
    "()\n",
    "+\n",
    "p\n",
    ".\n",
    "get_width\n",
    "()\n",
    "/\n",
    "2.\n",
    ",\n",
    "height\n",
    "+\n",
    "3\n",
    ",\n",
    "\"{:1.2f}\"\n",
    ".\n",
    "format\n",
    "((\n",
    "height\n",
    "/\n",
    "total\n",
    ")\n",
    "*\n",
    "100\n",
    "),\n",
    "ha\n",
    "=\n",
    "\"center\"\n",
    ")\n",
    "plt\n",
    ".\n",
    "show\n",
    "()"
   ]
  },
  {
   "attachments": {},
   "cell_type": "markdown",
   "metadata": {},
   "source": [
    "ii. Description about distribution"
   ]
  },
  {
   "attachments": {},
   "cell_type": "markdown",
   "metadata": {},
   "source": [
    "- This distribution explains that:\n",
    "- There are 5 unique categories in the race attribute.\n",
    "- Most of them are \"white\" which is roughly 85.50%.\n",
    "- This dataset is totally bias toward the \"white\" race.\n",
    "- Second major race in the dataset is the \"black\" with just 9.59%"
   ]
  },
  {
   "attachments": {},
   "cell_type": "markdown",
   "metadata": {},
   "source": [
    "##### 5.1.12 Gender"
   ]
  },
  {
   "attachments": {},
   "cell_type": "markdown",
   "metadata": {},
   "source": [
    "i. Distribution"
   ]
  },
  {
   "cell_type": "code",
   "execution_count": null,
   "metadata": {},
   "outputs": [],
   "source": [
    "plt\n",
    ".\n",
    "figure\n",
    "(\n",
    "figsize\n",
    "=\n",
    "(\n",
    "18\n",
    ",\n",
    "5\n",
    "))\n",
    "total\n",
    "=\n",
    "float\n",
    "(\n",
    "len\n",
    "(\n",
    "data\n",
    "))\n",
    "ax\n",
    "=\n",
    "sns\n",
    ".\n",
    "countplot\n",
    "(\n",
    "x\n",
    "=\n",
    "\"gender\"\n",
    ",\n",
    "data\n",
    "=\n",
    "data\n",
    ")\n",
    "for\n",
    "p\n",
    "in\n",
    "ax\n",
    ".\n",
    "patches\n",
    ":\n",
    "height\n",
    "=\n",
    "p\n",
    ".\n",
    "get_height\n",
    "()\n",
    "ax\n",
    ".\n",
    "text\n",
    "(\n",
    "p\n",
    ".\n",
    "get_x\n",
    "()\n",
    "+\n",
    "p\n",
    ".\n",
    "get_width\n",
    "()\n",
    "/\n",
    "2.\n",
    ",\n",
    "height\n",
    "+\n",
    "3\n",
    ",\n",
    "\"{:1.2f}\"\n",
    ".\n",
    "format\n",
    "((\n",
    "height\n",
    "/\n",
    "total\n",
    ")\n",
    "*\n",
    "100\n",
    "),\n",
    "ha\n",
    "=\n",
    "\"center\"\n",
    ")\n",
    "plt\n",
    ".\n",
    "show\n",
    "()"
   ]
  },
  {
   "attachments": {},
   "cell_type": "markdown",
   "metadata": {},
   "source": [
    "ii. Description about distribution"
   ]
  },
  {
   "attachments": {},
   "cell_type": "markdown",
   "metadata": {},
   "source": [
    "- This distribution explains that:\n",
    "- Gender has 2 unique categories(male and female).\n",
    "- But the frequency of male(32650) is higher than the female(16192) categories.\n",
    "- Distribution shows that this dataset is skewed toward the male with nearly 67%."
   ]
  },
  {
   "attachments": {},
   "cell_type": "markdown",
   "metadata": {},
   "source": [
    "##### 5.1.13 Gender"
   ]
  },
  {
   "attachments": {},
   "cell_type": "markdown",
   "metadata": {},
   "source": [
    "i. Distribution"
   ]
  },
  {
   "cell_type": "code",
   "execution_count": null,
   "metadata": {},
   "outputs": [],
   "source": [
    "plt\n",
    ".\n",
    "figure\n",
    "(\n",
    "figsize\n",
    "=\n",
    "(\n",
    "18\n",
    ",\n",
    "5\n",
    "))\n",
    "total\n",
    "=\n",
    "float\n",
    "(\n",
    "len\n",
    "(\n",
    "data\n",
    "))\n",
    "ax\n",
    "=\n",
    "sns\n",
    ".\n",
    "countplot\n",
    "(\n",
    "x\n",
    "=\n",
    "\"native-country\"\n",
    ",\n",
    "data\n",
    "=\n",
    "data\n",
    ")\n",
    "for\n",
    "p\n",
    "in\n",
    "ax\n",
    ".\n",
    "patches\n",
    ":\n",
    "height\n",
    "=\n",
    "p\n",
    ".\n",
    "get_height\n",
    "()\n",
    "ax\n",
    ".\n",
    "text\n",
    "(\n",
    "p\n",
    ".\n",
    "get_x\n",
    "()\n",
    "+\n",
    "p\n",
    ".\n",
    "get_width\n",
    "()\n",
    "/\n",
    "2.\n",
    ",\n",
    "height\n",
    "+\n",
    "3\n",
    ",\n",
    "\"{:1.2f}\"\n",
    ".\n",
    "format\n",
    "((\n",
    "height\n",
    "/\n",
    "total\n",
    ")\n",
    "*\n",
    "100\n",
    "),\n",
    "ha\n",
    "=\n",
    "\"center\"\n",
    ")\n",
    "plt\n",
    ".\n",
    "show\n",
    "()"
   ]
  },
  {
   "attachments": {},
   "cell_type": "markdown",
   "metadata": {},
   "source": [
    "- This dataset is taken from the US.\n",
    "- As 91.5% of them have native country America and others are immigrants."
   ]
  },
  {
   "attachments": {},
   "cell_type": "markdown",
   "metadata": {},
   "source": [
    "##### 5.1.14 Income(Target variable)"
   ]
  },
  {
   "cell_type": "code",
   "execution_count": null,
   "metadata": {},
   "outputs": [],
   "source": [
    "i. Distribution"
   ]
  },
  {
   "cell_type": "code",
   "execution_count": null,
   "metadata": {},
   "outputs": [],
   "source": [
    "plt\n",
    ".\n",
    "figure\n",
    "(\n",
    "figsize\n",
    "=\n",
    "(\n",
    "7\n",
    ",\n",
    "7\n",
    "))\n",
    "total\n",
    "=\n",
    "float\n",
    "(\n",
    "len\n",
    "(\n",
    "data\n",
    ") )\n",
    "ax\n",
    "=\n",
    "sns\n",
    ".\n",
    "countplot\n",
    "(\n",
    "x\n",
    "=\n",
    "\"income\"\n",
    ",\n",
    "data\n",
    "=\n",
    "data\n",
    ")\n",
    "for\n",
    "p\n",
    "in\n",
    "ax\n",
    ".\n",
    "patches\n",
    ":\n",
    "height\n",
    "=\n",
    "p\n",
    ".\n",
    "get_height\n",
    "()\n",
    "ax\n",
    ".\n",
    "text\n",
    "(\n",
    "p\n",
    ".\n",
    "get_x\n",
    "()\n",
    "+\n",
    "p\n",
    ".\n",
    "get_width\n",
    "()\n",
    "/\n",
    "2.\n",
    ",\n",
    "height\n",
    "+\n",
    "3\n",
    ",\n",
    "'{:1.2f}'\n",
    ".\n",
    "format\n",
    "((\n",
    "height\n",
    "/\n",
    "total\n",
    ")\n",
    "*\n",
    "100\n",
    "),\n",
    "ha\n",
    "=\n",
    "\"center\"\n",
    ")\n",
    "plt\n",
    ".\n",
    "show\n",
    "()"
   ]
  },
  {
   "attachments": {},
   "cell_type": "markdown",
   "metadata": {},
   "source": [
    "This dataset not balance , i.e. 23.93%of them are belong to income group 1 (who earns more than 50k) and 76% fall under the income\n",
    "group 0 (whoearnslessthan50k)."
   ]
  },
  {
   "attachments": {},
   "cell_type": "markdown",
   "metadata": {},
   "source": [
    "#### 5.2.Bivariate analysis"
   ]
  },
  {
   "attachments": {},
   "cell_type": "markdown",
   "metadata": {},
   "source": [
    "##### 5.2.1 Age"
   ]
  },
  {
   "attachments": {},
   "cell_type": "markdown",
   "metadata": {},
   "source": [
    "i. Boxplot (Relationship with income)"
   ]
  },
  {
   "cell_type": "code",
   "execution_count": null,
   "metadata": {},
   "outputs": [],
   "source": [
    "gig\n",
    "=\n",
    "plt\n",
    ".\n",
    "figure\n",
    "(\n",
    "figsize\n",
    "=\n",
    "(\n",
    "10\n",
    ",\n",
    "10\n",
    "))\n",
    "sns\n",
    ".\n",
    "boxplot\n",
    "(\n",
    "x\n",
    "=\n",
    "\"income\"\n",
    ",\n",
    "y\n",
    "=\n",
    "\"age\"\n",
    ",\n",
    "data\n",
    "=\n",
    "data\n",
    ")\n",
    "plt\n",
    ".\n",
    "show\n",
    "()"
   ]
  },
  {
   "cell_type": "code",
   "execution_count": null,
   "metadata": {},
   "outputs": [],
   "source": [
    "data\n",
    "[[\n",
    "'income'\n",
    ",\n",
    "'age'\n",
    "]].\n",
    "groupby\n",
    "([\n",
    "'income'\n",
    "],\n",
    "as_index\n",
    "=\n",
    "False\n",
    ").\n",
    "mean\n",
    "().\n",
    "sort_values\n",
    "(\n",
    "by\n",
    "=\n",
    "'age'\n",
    ",\n",
    "ascending\n",
    "=\n",
    "False\n",
    ")"
   ]
  },
  {
   "attachments": {},
   "cell_type": "markdown",
   "metadata": {},
   "source": [
    "The mean \"age\" for Income group(<=50k) is 36.8 years.\n",
    "And for Income group(>50k) is 44.2 years"
   ]
  },
  {
   "attachments": {},
   "cell_type": "markdown",
   "metadata": {},
   "source": [
    "### End."
   ]
  }
 ],
 "metadata": {
  "kernelspec": {
   "display_name": "Python 3",
   "language": "python",
   "name": "python3"
  },
  "language_info": {
   "codemirror_mode": {
    "name": "ipython",
    "version": 3
   },
   "file_extension": ".py",
   "mimetype": "text/x-python",
   "name": "python",
   "nbconvert_exporter": "python",
   "pygments_lexer": "ipython3",
   "version": "3.10.5"
  },
  "orig_nbformat": 4,
  "vscode": {
   "interpreter": {
    "hash": "74af3d2f25f1e46ebd2903d59225d79e4675ec224d56c01fc30cd168c2010d53"
   }
  }
 },
 "nbformat": 4,
 "nbformat_minor": 2
}
